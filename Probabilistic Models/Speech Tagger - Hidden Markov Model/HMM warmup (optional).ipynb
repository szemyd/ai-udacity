{
 "cells": [
  {
   "cell_type": "markdown",
   "metadata": {},
   "source": [
    "# Intro to Hidden Markov Models (optional)\n",
    "---\n",
    "### Introduction\n",
    "\n",
    "In this notebook, you'll use the [Pomegranate](http://pomegranate.readthedocs.io/en/latest/index.html) library to build a simple Hidden Markov Model and explore the Pomegranate API.\n",
    "\n",
    "<div class=\"alert alert-block alert-info\">\n",
    "**Note:** You are not required to complete this notebook and it will not be submitted with your project, but it is designed to quickly introduce the relevant parts of the Pomegranate library that you will need to complete the part of speech tagger.\n",
    "</div>\n",
    "\n",
    "The notebook already contains some code to get you started. You only need to add some new functionality in the areas indicated; you will not need to modify the included code beyond what is requested. Sections that begin with **'IMPLEMENTATION'** in the header indicate that you need to fill in code in the block that follows. Instructions will be provided for each section, and the specifics of the implementation are marked in the code block with a 'TODO' statement. Please be sure to read the instructions carefully!\n",
    "\n",
    "<div class=\"alert alert-block alert-info\">\n",
    "**Note:** Code and Markdown cells can be executed using the `Shift + Enter` keyboard shortcut. Markdown cells can be edited by double-clicking the cell to enter edit mode.\n",
    "</div>\n",
    "<hr>"
   ]
  },
  {
   "cell_type": "markdown",
   "metadata": {},
   "source": [
    "<div class=\"alert alert-block alert-warning\">\n",
    "**Note:** Make sure you have selected a **Python 3** kernel in Workspaces or the hmm-tagger conda environment if you are running the Jupyter server on your own machine.\n",
    "</div>"
   ]
  },
  {
   "cell_type": "code",
   "execution_count": 3,
   "metadata": {
    "collapsed": true
   },
   "outputs": [],
   "source": [
    "# Jupyter \"magic methods\" -- only need to be run once per kernel restart\n",
    "%load_ext autoreload\n",
    "%aimport helpers\n",
    "%autoreload 1"
   ]
  },
  {
   "cell_type": "code",
   "execution_count": 4,
   "metadata": {
    "collapsed": true
   },
   "outputs": [],
   "source": [
    "# import python modules -- this cell needs to be run again if you make changes to any of the files\n",
    "import matplotlib.pyplot as plt\n",
    "import numpy as np\n",
    "\n",
    "from helpers import show_model\n",
    "from pomegranate import State, HiddenMarkovModel, DiscreteDistribution"
   ]
  },
  {
   "cell_type": "markdown",
   "metadata": {},
   "source": [
    "## Build a Simple HMM\n",
    "---\n",
    "You will start by building a simple HMM network based on an example from the textbook [Artificial Intelligence: A Modern Approach](http://aima.cs.berkeley.edu/).\n",
    "\n",
    "> You are the security guard stationed at a secret under-ground installation. Each day, you try to guess whether it’s raining today, but your only access to the outside world occurs each morning when you see the director coming in with, or without, an umbrella.\n",
    "\n",
    "A simplified diagram of the required network topology is shown below.\n",
    "\n",
    "![](_example.png)\n",
    "\n",
    "### Describing the Network\n",
    "\n",
    "<div class=\"alert alert-block alert-warning\">\n",
    "$\\lambda = (A, B)$ specifies a Hidden Markov Model in terms of an emission probability distribution $A$ and a state transition probability distribution $B$.\n",
    "</div>\n",
    "\n",
    "HMM networks are parameterized by two distributions: the emission probabilties giving the conditional probability of observing evidence values for each hidden state, and the transition probabilities giving the conditional probability of moving between states during the sequence. Additionally, you can specify an initial distribution describing the probability of a sequence starting in each state.\n",
    "\n",
    "<div class=\"alert alert-block alert-warning\">\n",
    "At each time $t$, $X_t$ represents the hidden state, and $Y_t$ represents an observation at that time.\n",
    "</div>\n",
    "\n",
    "In this problem, $t$ corresponds to each day of the week and the hidden state represent the weather outside (whether it is Rainy or Sunny) and observations record whether the security guard sees the director carrying an umbrella or not.\n",
    "\n",
    "For example, during some particular week the guard may observe an umbrella ['yes', 'no', 'yes', 'no', 'yes'] on Monday-Friday, while the weather outside is ['Rainy', 'Sunny', 'Sunny', 'Sunny', 'Rainy']. In that case, $t=Wednesday$, $Y_{Wednesday}=yes$, and $X_{Wednesday}=Sunny$. (It might be surprising that the guard would observe an umbrella on a sunny day, but it is possible under this type of model.)\n",
    "\n",
    "### Initializing an HMM Network with Pomegranate\n",
    "The Pomegranate library supports [two initialization methods](http://pomegranate.readthedocs.io/en/latest/HiddenMarkovModel.html#initialization). You can either explicitly provide the three distributions, or you can build the network line-by-line. We'll use the line-by-line method for the example network, but you're free to use either method for the part of speech tagger."
   ]
  },
  {
   "cell_type": "code",
   "execution_count": 5,
   "metadata": {
    "collapsed": true
   },
   "outputs": [],
   "source": [
    "# create the HMM model\n",
    "model = HiddenMarkovModel(name=\"Example Model\")\n"
   ]
  },
  {
   "cell_type": "markdown",
   "metadata": {},
   "source": [
    "### **IMPLEMENTATION**: Add the Hidden States\n",
    "When the HMM model is specified line-by-line, the object starts as an empty container. The first step is to name each state and attach an emission distribution.\n",
    "\n",
    "#### Observation Emission Probabilities: $P(Y_t | X_t)$\n",
    "We need to assume that we have some prior knowledge (possibly from a data set) about the director's behavior to estimate the emission probabilities for each hidden state. In real problems you can often estimate the emission probabilities empirically, which is what we'll do for the part of speech tagger. Our imaginary data will produce the conditional probability table below. (Note that the rows sum to 1.0)\n",
    "\n",
    "| |  $yes$  | $no$ |\n",
    "| --- | --- | --- |\n",
    "| $Sunny$ |   0.10  | 0.90 |\n",
    "| $Rainy$ | 0.80 | 0.20 |"
   ]
  },
  {
   "cell_type": "code",
   "execution_count": 7,
   "metadata": {},
   "outputs": [
    {
     "output_type": "stream",
     "name": "stdout",
     "text": [
      "None\nLooks good so far!\n"
     ]
    }
   ],
   "source": [
    "# create the HMM model\n",
    "model = HiddenMarkovModel(name=\"Example Model\")\n",
    "\n",
    "# emission probability distributions, P(umbrella | weather)\n",
    "sunny_emissions = DiscreteDistribution({\"yes\": 0.1, \"no\": 0.9})\n",
    "sunny_state = State(sunny_emissions, name=\"Sunny\")\n",
    "\n",
    "# TODO: create a discrete distribution for the rainy emissions from the probability table\n",
    "# above & use that distribution to create a state named Rainy\n",
    "rainy_emissions = DiscreteDistribution({\"yes\": 0.8, \"no\": 0.2})\n",
    "rainy_state = State(rainy_emissions, name=\"Rainy\")\n",
    "\n",
    "# add the states to the model\n",
    "model.add_states(sunny_state, rainy_state)\n",
    "\n",
    "assert rainy_emissions.probability(\"yes\") == 0.8, \"The director brings his umbrella with probability 0.8 on rainy days\"\n",
    "print(\"Looks good so far!\")"
   ]
  },
  {
   "cell_type": "markdown",
   "metadata": {},
   "source": [
    "### **IMPLEMENTATION:** Adding Transitions\n",
    "Once the states are added to the model, we can build up the desired topology of individual state transitions.\n",
    "\n",
    "#### Initial Probability $P(X_0)$:\n",
    "We will assume that we don't know anything useful about the likelihood of a sequence starting in either state. If the sequences start each week on Monday and end each week on Friday (so each week is a new sequence), then this assumption means that it's equally likely that the weather on a Monday may be Rainy or Sunny. We can assign equal probability to each starting state by setting $P(X_0=Rainy) = 0.5$ and $P(X_0=Sunny)=0.5$:\n",
    "\n",
    "| $Sunny$ | $Rainy$ |\n",
    "| --- | ---\n",
    "| 0.5 | 0.5 |\n",
    "\n",
    "#### State transition probabilities $P(X_{t} | X_{t-1})$\n",
    "Finally, we will assume for this example that we can estimate transition probabilities from something like historical weather data for the area. In real problems you can often use the structure of the problem (like a language grammar) to impose restrictions on the transition probabilities, then re-estimate the parameters with the same training data used to estimate the emission probabilities. Under this assumption, we get the conditional probability table below. (Note that the rows sum to 1.0)\n",
    "\n",
    "| | $Sunny$ | $Rainy$ |\n",
    "| --- | --- | --- |\n",
    "|$Sunny$| 0.80 | 0.20 |\n",
    "|$Rainy$| 0.40 | 0.60 |"
   ]
  },
  {
   "cell_type": "code",
   "execution_count": 7,
   "metadata": {},
   "outputs": [
    {
     "output_type": "stream",
     "name": "stdout",
     "text": [
      "Great! You've finished the model.\n"
     ]
    }
   ],
   "source": [
    "# create edges for each possible state transition in the model\n",
    "# equal probability of a sequence starting on either a rainy or sunny day\n",
    "model.add_transition(model.start, sunny_state, 0.5)\n",
    "model.add_transition(model.start, rainy_state, 0.5)\n",
    "\n",
    "# add sunny day transitions (we already know estimates of these probabilities\n",
    "# from the problem statement)\n",
    "model.add_transition(sunny_state, sunny_state, 0.8)  # 80% sunny->sunny\n",
    "model.add_transition(sunny_state, rainy_state, 0.2)  # 20% sunny->rainy\n",
    "\n",
    "# TODO: add rainy day transitions using the probabilities specified in the transition table\n",
    "model.add_transition(rainy_state, sunny_state, 0.4)  # 40% rainy->sunny\n",
    "model.add_transition(rainy_state, rainy_state, 0.6)  # 60% rainy->rainy\n",
    "\n",
    "# finally, call the .bake() method to finalize the model\n",
    "model.bake()\n",
    "\n",
    "assert model.edge_count() == 6, \"There should be two edges from model.start, two from Rainy, and two from Sunny\"\n",
    "assert model.node_count() == 4, \"The states should include model.start, model.end, Rainy, and Sunny\"\n",
    "print(\"Great! You've finished the model.\")"
   ]
  },
  {
   "cell_type": "markdown",
   "metadata": {},
   "source": [
    "## Visualize the Network\n",
    "---\n",
    "We have provided a helper function called `show_model()` that generates a PNG image from a Pomegranate HMM network. You can specify an optional filename to save the file to disk. Setting the \"show_ends\" argument True will add the model start & end states that are included in every Pomegranate network."
   ]
  },
  {
   "cell_type": "code",
   "execution_count": 13,
   "metadata": {},
   "outputs": [
    {
     "output_type": "display_data",
     "data": {
      "image/svg+xml": "<?xml version=\"1.0\" encoding=\"utf-8\" standalone=\"no\"?>\r\n<!DOCTYPE svg PUBLIC \"-//W3C//DTD SVG 1.1//EN\"\r\n  \"http://www.w3.org/Graphics/SVG/1.1/DTD/svg11.dtd\">\r\n<!-- Created with matplotlib (http://matplotlib.org/) -->\r\n<svg height=\"133pt\" version=\"1.1\" viewBox=\"0 0 316 133\" width=\"316pt\" xmlns=\"http://www.w3.org/2000/svg\" xmlns:xlink=\"http://www.w3.org/1999/xlink\">\r\n <defs>\r\n  <style type=\"text/css\">\r\n*{stroke-linecap:butt;stroke-linejoin:round;}\r\n  </style>\r\n </defs>\r\n <g id=\"figure_1\">\r\n  <g id=\"patch_1\">\r\n   <path d=\"M 0 133.539663 \r\nL 316.625 133.539663 \r\nL 316.625 -0 \r\nL 0 -0 \r\nz\r\n\" style=\"fill:none;\"/>\r\n  </g>\r\n  <g id=\"axes_1\">\r\n   <g clip-path=\"url(#p8a2c7bfc7c)\">\r\n    <image height=\"99\" id=\"image51f2be83b1\" transform=\"scale(1 -1)translate(0 -99)\" width=\"279\" x=\"26.925\" xlink:href=\"data:image/png;base64,\r\niVBORw0KGgoAAAANSUhEUgAAARcAAABjCAYAAACxF0S3AAAABHNCSVQICAgIfAhkiAAAIABJREFUeJztnXlUFFf2x7+9sC82squghEUCRBHcQJwhIJrEoEaNSxY1iTo4MWp0TtREfkRnjmYSM8lERiNGYzQZwjhqYiQKImpyFARBlIjKpkCUVaFtaJBe7u8PTtU0yCrdVYD1OafOga7q92533bp933v33SsionchICAgoF/SREREfEshICAw4PhQzLcEAgICAxPBuAgICBgEwbgICAgYBMG4CAgIGAQp3wL0hDt37iA/Px+FhYUoLi4GAFRWVqK6upo9GhoaAADNzc1obm5GQ0MDRCIRZDIZ246VlRUsLCxgb28PR0dHAICjoyOcnJzg6enJHgBgaWnJ8acU6KtoNBqUlpaiuLgYhYWFKCkpAdCigzU1NeyhVCoBgNVFuVwOrVYLU1NTAICZmRkAwMbGBubm5rCzswMAODg4wMHBAY6Ojnjqqafg4eEBd3d3AICtrS2nn1Uf9MnVosLCQmRkZCAjIwMAcOnSJeTk5LA3SyaTYcSIEQAAZ2dn2Nvbs4e5uTkAwMTEBEZGRrC0tIRWq4VcLmfbf/DgAZRKJaqrq1FZWQmgRUHKy8tx+/ZtqFQq9lpXV1eMHTsWY8eOxbhx4zB+/HhYW1tz8TUI8IRSqUR2djYuX76MrKwsXL58GQBw48YNNDc3A2gxDK6urgAAJycn2NnZwd7eHnZ2dqwRsbKyAgBYW1tDIpGgsbERANDU1MTqZENDA2pqagD8z0hVVlbi1q1bbF9Mf6NHj0ZAQADGjBmDwMBAAIC3tzdEIhEH30qP+ZB343L//n2kpKQAAE6dOoWkpCSUlZXBzMwM/v7+AIBx48Zh9OjR8Pb2hqenJ+zt7Q0mj0qlwu3bt1FQUAAAyMvLQ1ZWFi5duoTCwkJIpVJMmDABADBt2jRERERg3LhxkEgkBpNJwHA0NzcjIyMDp0+fBgCkpqYiPT0dzc3NcHJyYh9mAPDz82M9isGDBxtULq1Wi7KyMhQWFgIAioqKcOXKFWRlZSE3N5f1jhwcHBAaGorw8HCEh4eznk4fQFiKFhAQMAy8eC61tbU4evQovv/+e6SmpsLIyAgA8Ic//AFTpkzBlClT8Mwzz0Aq7VtTQrW1tbhw4QJOnjwJAEhJScGNGzfg6OiIOXPmYOHChQCA4OBgiMWC3e6LMEOTpKQkHD58GMePH0ddXR2efvppAEBYWBjCw8MxYcIEDBkyhE9RO0StVuPGjRsAgF9++QWnT5/GuXPncO/ePYwcORIAMHv2bMyZM4cdPvEAd8Oic+fOITY2FgDw008/QSqVIjIyEgsWLEBERAQAsPMl/Ylbt27h8OHDiI+PR3Z2NgDAxcUFy5cvx7Jly9gJYwF+OX/+POLi4nD48GEAwMOHDxEaGoo5c+ZgxowZfdaQdBetVovs7GwcOXIEAHDkyBHcvHkTbm5uePPNN/Hmm28CAJef80OQAVGpVLRv3z4aNWoUAaDg4GAKDg6mb7/9lurr6w3ZNS/k5+dTfn4+vf/++2Rvb08mJib02muv0dWrV+nq1at8i/dEoVQqSalUUmxsLPn6+hIAGj9+PMXFxVFcXBzV1NTwLaLByc3Npffee48cHBzIyMiIjIyM6KWXXqKzZ89y0X2M3o2LRqOhgwcP0sGDB8nT05OMjY1pyZIllJWVpe+u+jRNTU20f/9+8vf3J7FYTGKxmBYsWEA3btzgW7QBjUKhoE8++YQcHR3J0dGRzM3NKSoqii5fvsy3aLzx8OFDSkhIoISEBPrjH/9IAGjy5Ml08uRJQ3arX+Ny8eJFGjNmDEkkEpJIJLRo0SIqLi7WZxf9Dq1WS4cOHaJDhw6Rr68vSaVSWrVqFT148IBv0QYUGo2Gdu/eTXZ2dmRlZUXr16+n9evXU2VlJd+i9TnOnz9Pzz//PAGgoKAgCgoKouzsbH13EyPMOgoICBgGfZgouVxOb7/9NonFYgoPD6dr167RtWvX9NH0gEKj0dBXX31FdnZ2NGzYMDpy5AgdOXKEb7H6Nenp6ZSenk5jxowhqVRKa9eupXv37vEtVr8gMzOTJk2aRJMmTSKxWExRUVH6/O56Nyy6fPkyXb58mTw9Pcne3p4OHDhAWq1WX8INWKqrq2nRokUkEolIJBLR22+/TU1NTXyL1a9QqVT0wQcfsEPwsLAw4QftMdBqtaTVaunAgQPk7OxMw4YNo9OnT+uj6cc3Lvv27SNTU1MyNTWlZ599lsrLy/Uh0BPF0aNH6ejRoySTyWjs2LFUUlLCt0h6JTU1lVJTU+nLL7/Uq/EsKSmhiRMnkrm5Oe3evZt2796tt7afZO7fv08vv/wyicVi2rBhA6nValKr1Y/b3OMZl23btpFYLKbo6GiKjo7ujQACRFRcXEyBgYHk4uJC169f51scvWFra0u2trYEgKytrWnNmjW9XpLPzs4mZ2dn8vf3p7y8PD1JKqDL3r17ycLCgmbNmkWzZs0ipVL5OM303Lhs3LiRJBIJff3114/ToUAHKBQKCgsLIwcHhwETF+Pr68vGmAAgIyMjAkBjx46lsWPH0p49e0ihUHSrreTkZEpOTiYrKyuaPn36gIyT6ktkZGSwy/kTJ06kurq6njbRM+Oyc+dOMjY2FiYhDURTUxPNnDmThg0bRsOGDaOysjK+ReoV7u7u5O7uzhoX5mDifsRiMZmZmdFbb71FFy5c6LCd9PR0Mjc3J3Nzc1q2bJngKXNEUVERFRUVkZeXF4WEhFBDQ0NP3i4sRQsICBiGbu8tOnnyJF588UXs3bsXixcvNrRcTyzNzc34wx/+wP59/vx5NrlQf8PZ2RkAUFFR0el1RkZGUKlU8Pb2BgD86U9/wqJFizB48GAUFRUhKCgIU6dOBQAcPHiwr+YvGbD8/vvvCAoKQkBAAH744Yfufv9db1ysq6sDAPj6+mLRokXYtm2bHsQV6Izq6moAQFBQEGbOnInw8HA0NDRALpejqakJQEuWswcPHqCxsZH9G2gxSMzfTU1N7C5gAFAoFFCr1Y8kz2oPpVKJhw8fdnheLBZj0KBB7Z6zsrKCVCpFeXk5ALSSoTMYpWV2lI8YMQLm5uZwdHREYmIiAMDY2LhbbQnol9zcXEyePBmbN2/G6tWru/OWro3L8uXLAQA5OTlIS0t74pIi7dmzB8uXL0dcXByWLVvGad8XLlxAaGgomxnP2tqa9WIsLCxgbW0NU1NTWFpastnxjIyM2IfexMSk1U5zS0tLNr2FjY1Np313ZjwAsClE26O2thYA8OGHHwIAaxC7i0gkAqOWlpaWKCkpMXhypv4An7oIAIcOHcLixYuRk5MDAPDy8urs8s53RWdmZrK7Ka9cufKY00L9m02bNrETkZs2beK8/6ioKBo3bhzn/eoDJkgQbSZ02x5MIBxzfUBAAL333ntkbGxMx48f5/tj9Bna6iIf+jh//nyKiIigiIiIri6N6dRzmTdvHuuqJiQk9Nbw9Xv27NkDd3d3hIWFcdbn3bt34ebmhqSkJISGhnLWb2/RaDQdJvtivCe1Wg2pVIqwsDDMnj0bkZGRAFrmalasWIH8/Hw2/aRAa/bs2QMAnOvjrVu3WI/l3LlzCA4O7uhSIc2lgICAYejQcykqKoKXlxfOnz8PAJg4cSKngvVF5HI5NmzYgF27dnHa76JFi3D//n0cP36c0357g1wub1XOxdjYGM3NzbCysmI9lFmzZuG5555js+QzlJeXw83NDYmJiQgPD+dU7v4CMyHPhz4uWbIEAFBTU9OZTnY85/Lxxx/T8OHD9TZWaw90Mg5vS05ODntu+/btj7y+adMmqqysZMeiUVFRVFJS0uV4X7e/7sgRGRlJN2/epJs3bxrui2nDTz/9RFKplORyOWd99paGhoZWQXOrVq2ilJQUUqlUXb53x44d5OjoaPBNsMz9vXnzJpuhDjpzGu3d45KSEoqMjCQAdOzYMTp27BgRtehFfHw8VVZW9ki/eqOLTL9c6iIRUVJSEiUlJZFEIulsF3XHEbrTpk2jt956yzDS6dD2ZrSX3IcxIHFxcY+cZ250SUkJ3bx585G22mtf97W6ujo2tLmuru6R63RJS0tj5YiLizPcl9IGhUJBRkZG9OOPP3LWpz7Q/W57wvTp02nx4sX6F6gNzL0+ffr0I3oQHx9PACgnJ6fVe6KioghAqwea0QsAFBUV1a6OMe22p2O6+tmeLrb3XKSlpbXSRy5pbGykxsZGMjMzo/j4+I4u69i4DBo0iDOhO7LOzJcfGRnZ4cx42/e111Znr3XVni6MYkVGRlJkZGSPPmNv8ff3p40bN3LaJ1/Y2NhwstOZMSydnW97n3uiN929tiP978xriYqKaqWPfBASEkKrVq3q6HRMu9P5TU1NkMvlvGaur6qqwtKlSwEAo0ePxl//+td2r4uPj8fChQtRWlrKVsAzBFeuXMGXX36J+Ph4WFhYAADS09M5m4tycHBgq0MOVJh4mNraWs50r6PSG6WlpQBaKlX0NRhdBMDqI5e6yODk5IQ7d+50eF5YLRIQEDAI7XouTO1aPqMily5ditGjRwNAh14LACxYsAAKhQIrV67E9u3bDSYP80vx/PPPs69t2LCBU8+F2RYwUGH0DgAnngt1EOKVnp6OrVu3AgCOHTtmcDl6CqOLwP/0kUtdZHB0dERubm6H59s1LpaWlgC6vydEn+huilqzZk233rNs2TJMmzYNhw4dMohMjBsaFxfXKiTew8PD4MMxhvr6+keWbAcajN4BLfuguCQ9PR0A8M0337AP77Fjx9hl876Cri4CYPWRS11kUCgUnepku8MimUwGExOTLnezGgIiAhEhJycHn3/+OT7//HPMmDEDVVVV7V4fHR2NFStWwNXVFevWrTOITCkpKQBaCs/rMmXKFFy4cMEgfbalvLx8wFdvlMlkkMlkMDU1ZTc9Gpr8/HysWLECQUFBCAoKYufV6urq+pxhAVrroq4+cqmLDOXl5XBycur4go6mekeNGkUffPCBAeaYHwUdzIqXlJSwsSq6sS26MDPmlZWVreJaoqKiiOh/S9W67eu+xizpMf3pvpfof8uMuq/pEhkZafDaOBqNhgYPHvzE5IoNCAigDRs2GLwf3dgpJrygs6Vz3WVjXXT1jojY1URdHWOua6tjbfWzPV1kru2uLnJVq2no0KH02WefdXS646Xov/zlLzR+/HjDSNWGjoxL2/PtUVdX90jwExNQR9SiEPHx8a2Wj3VfYzh27Bi7rFdSUkLbt2+n7du3t5KtrYHTPW9IMjMzCUC3C8w1NjbS8ePH6ZVXXiE/Pz/y8/PrV9UF3n//fRo1apTB+2Ee7LaxLAxt72tHetr2deYB19UxRr90dYy5Nj4+vt1rmesYfWyri7r62Pa8IWHSsALoLOezkIlOQEDAQHRkdk6fPk0SiYQTNwsdWFzdiMaOXMEngZiYGPL29u7wfFVVFe3bt4/27dtHM2bMIFNT01bfKXQiP/sDFy9eJJFIRLdv3zZoP8yQuj2YIZPAo2zZsoW2bNlCI0eO7OyyjodFWq2WfHx8DJ43om34s+7rTN/oxHUd6Dx8+JCcnZ1p165drV7Py8ujjz76iMaPH09isZjNiSKRSB4xLADo4cOHPH2Cx2Py5Mm0cuVKg/bBzGG0DWHPyclhh0wCrVEqleTk5EROTk5dRfB3nv1///79ZGdnR3Z2dgYpnN7eQ8AckZGR7LiytxuzGCPFR3Kd3rJ3716yt7enpKQkWrduHQ0fPpyGDx9OQEupjq6SMTEJmPobJ06cIDMzMyotLTVoP2lpaawHw3jIzF4jwbg8yqeffkouLi7k4uLS1Q9W58mi1Go1xo0bBwCYNGkSYmNjez8O44Ho6Gj2784C8voaNTU1GDFiBJtOkklb0BOYtJiZmZmtEn0zMSVM4iagJWaCyV/bXdRq9SMxKXV1da0C1HTz8T58+BBKpRJAS5xEc3Mz5HI5Ghsb2fB/uVyO5uZmHDp0CB4eHkhJSRGScvcBCgsL4e/vj7179wIA5s+f39nlXefQzcrKAgAEBwcjMTERU6ZM0ZesAh3A3JJ58+YhLy8PeXl5AACpVAq1Wt2jtpiE1j01SlzB5Oo1NTVljZ+1tTVMTExgbGyM3NxcxMTEdDugUsAwKJVKhIaGYvjw4d0NVhUy0QkICBiG9pOc6sDsGl27di3mzp2LS5cuwcPDw+CCPcn83//9HwDgxIkTyM7OhoeHB5KTk7F79252l65IJOqWF8PsD0tKSmKrCAD/y2Sm1WoBtHhLTBmZniCRSNjKAwzW1tatqkToeiXGxsbsrnKmBElnHDp0CAsWLIC9vT0A4NVXX+2xjAK9Q6PRYOHChSgvL8fPP//c/Td2dyJHrVbTjBkzyMPDg+7evduLKSGBzvj6669JKpWSVCptNzlUeXk5lZeX07Zt28jV1ZWd2EUHE7peXl7k5eXFwyfRH9u2bSNjY2MyNjamEydO8C3OE4NarSa1Wk1Lly6lQYMG9bR+ec9qRSsUCvL39yd3d/duR4sKdJ8dO3aQSCSiHTt20I4dO7q8XqvV0qlTp2ju3LlsCRipVNrKuAQEBFBAQAAH0huWd955h9555x0yMjKi/fv38y3OgEepVNKsWbNo1qxZZGFhQWfOnOlpEz0zLkRE9+/fp+DgYBoyZAhdunSJLl261NMmBNqg0WgoOjqaRCIRxcbGPlYbVVVVVFVVRdu3b29V/J0pBj9Q2LJlC4nFYoqOjhYK0huIsrIymjhxIjk6OpKjoyNlZGQ8TjM9Ny5ERPX19fTCCy+QqakpmZqaPjEb6vQNYxCmTp1KJiYm9O233+qlXa1WS+fOnaOgoCD67LPPOttc1i/55ptvyNTUlCZPnszuvRHQD4cPHyZbW1vy8fGhoqIiKioqetymHs+4ELX82jJhwBKJhObPn8/ZbsyBwIkTJ8jV1ZVcXV3Jzc2NMjMz+RapX5Gbm0t+fn4kk8lIJpPR3r17SaPR8C1Wv6W6upqWLFnCBhI2NDT0tklh46KAgICB0IfVS05OJldXVzZru1arNXjNmf7K3bt3af78+QSA5s+fT/Pnz6fa2lq+xeqXNDY20urVq2n16tUklUopMDCQzYci0DUqlYq++OIL+uKLL0gmk9HQoUPphx9+0Ffzjz8saotCoaB169axNzkwMJB+/vlnfTXfr5HL5SSXyykmJoasra3Jzc2NEhMT+RZrQHHt2jUKDQ0lkUhEL730EmVnZ1N2djbfYvVJVCoV7d+/n0aOHMku8W/cuJEUCoU+u9GfcWG4evVqq0xcISEhlJyc/ER6Mvfv36etW7eSra0t2drakkwmo7/97W/6GM8KdMCPP/5IgYGB7IbN6dOn09mzZ/kWi3cUCgUpFAravXs3ubm5kVQqpTfeeIMKCwupsLDQEF3q37jokp6eTlOnTiWRSETe3t4UGxtLsbGx/aos6eNw5coVWrZsGZmbm9OgQYPYHdnC8Ic7EhMTKTExkUJCQggAeXt70z/+8Q+6d+9eZyVIBxzZ2dkUFRVF1tbWZG1tTWZmZrR8+XIu4tQ63xWtL/Ly8hAbG4uDBw8y8zyIjIzEwoULMW3aNJiYmBhaBINSVlaGhIQE7N+/HwBw7do1+Pj4YOXKlXj99ddbZbUX4J7c3FzExcXh4MGDbEWLKVOmYO7cuZgxYwZsbW15llB/MEm6//vf/+LUqVP47bff4Ovri+XLlwMAXn/9ddjY2HAhirBxUUBAwDBw4rkwMJvlXnzxRSiVSly5cgXW1tZsiYSpU6ciIiICw4YN40qkHqNWq5GZmQkASE5OxsmTJ5GRkQEbGxvcu3cPADBr1iwcOXJEyEHSx2hsbMTx48cBALt27cKvv/4KAAgJCcGzzz4LAAgLC8P48ePZVBV9nZqaGpw5cwZnz57FqVOnUFBQwJ5bu3Yt5s2bhwkTJvAhWtf5XPTJtWvXAAB+fn5ITk7GqFGjcPToUSQnJwMAUlNTIZfL4enpiQkTJrCJqsaNGwd/f/9WyY644s6dO7h06RIyMzORmZmJ9PR0PHjwAADg7e2NqVOnYvr06airq2OT59ja2qKioqLLHb8C/PHaa6/hxo0b2LRpE06dOoXU1FQAwI0bN2BhYYGAgAAEBgYiICAAAQEBAICRI0fydk/lcjmuXr2KrKwsZGdnIzs7G0DLlIOJiQkmTpyIZ599Fp9++ikA4MGDB9i1axeioqJ4kRdcG5d3330XQEtx74KCgkd+2RmvIDU1FRcvXmQ9hIqKCohEIri4uMDT0xMeHh546qmnALSUlLS3t4ejoyNsbGzYCnRisRgmJiYwNzcH0FLcnKGxsREKhQLV1dVsidTy8nJUVFSgoKCAPYCWmySVSuHj44Px48cjODgYERERANDKw1q3bh0+//xz9v+9e/diyZIlevvuBPQDowfOzs7417/+hbfeeqvV+fLycqSmpiI9PR3Z2dnIyclhM+dJpVIMHz4c7u7ucHd3x/DhwwG0lNq1t7eHnZ0d7Ozs2Dk2Zi6RmeNgEnYxmQUVCgXq6+tZHayurkZVVRWqqqpQVFTEHgDYooBDhgxhDR8ATJ48GcHBwTAzM0N9fT2r/1qtFkOHDkVxcTFfXhi3xsXNzQ0AsGTJEsTExHT7fWVlZcjJycHNmzdRWFiI/Px83Lp1CwBQWVmpl7KzjIHy8vKCh4cHvLy8ALR4J/7+/mwOko4YP348awzFYjFcXV1RUFAgeC99jH//+98AgDfffBPV1dVdlsjVaDS4ceMGgBbPu7i4GIWFhSguLsbt27cBtDz4jMHoLXZ2dnBwcGB/QJncSe7u7vD39++0wuHZs2fZ4R3Qooe7d+/G0qVL9SJbD+HOuNy8eRPe3t4AWury6nMc2NDQgMrKStTW1j7ioTB5Wdt6NIMGDYK9vT2bhKg3RqC5uRlWVlatUkmKxWIcOHBASG7Ux2C8ybKyMpw+fVpv7TY2NqKmpgY1NTXssFmlUrVKwsXkK2Y8GwsLC1hbW8POzg5Ai2HRTbLVUz7++GNs2rSJ7VskEmHYsGEoLi7m40dOWC0SEBAwDJyZs7Nnz0ImkwEAxo4dq9e2LSws2DkYPsjJyXkkATYRISYmBgsXLuxxRn0Bw3HmzBkAwJ///Ge9tmtmZgYXFxe4uLjotd2ecP78eWg0GvZ/IsKdO3fw3XffYfHixZzLw5nWX7t2DX5+fvDz8+uV69cXSUtLa1WiA2i5scXFxUhISOBJKoG2KBQKlJaWorS0FM888wzf4uid8+fPQ6vVsnmRGT788EOo1eoeV47oLZwZl/z8fIwcORIjR47kqkvOSEtLe+SGAi1JtDdv3tzuDRfgnvz8fPZvZv5voHD79m02zkoXrVaL0tJSJCQkcP5Dx9mw6O7duxgzZgxX3XHKr7/+2sodZdBqtcjPz8fRo0cBAHPmzOFaNAEdKioq2L8HUsg/0LJIIhKJ0N76DDNEB8DpMJ3TyQBTU1OYmppy2aXBqaiowN27dzs8LxKJEB0djejo6HZvvAA/dLUE3d9IT09/ZGjOwAzRuR6mCzONAgICBoEz46LRaCAWiwfcysnFixc7Pa/VanH9+nVcv34dP/74I0dSCbQHU68awICbA/vll186LdkrEolazQFyAWdPurOzM+7cuYM7d+5w1SUnZGRkdBleLZFIIJFIEBMTIwyNeGTo0KHs3wNJD5uampCbm9vpNcyigu4coKHhzLi4uLigrKwMZWVlXHXJCb/++muXRd41Gg00Gg2uXr2KU6dOcSSZQFt0Y1B+//13HiXRL9nZ2d1eZiYizJs3z8AStcDZatGECRMQHR0NoMWKDoThkUajYbftSyQSNsRapVKxrqdIJGJXJjQaDZydnfkRVgBDhgxhDUx6ejomTZrEs0T6IT09HUCLrulO6ur+6DGbKI2NjTF37lxO5OLMuEyZMgUrVqwA0BLRymxj78+o1Wq4ubnB1NQUEyZMYHfJnj59Go2NjUhISICLi0u/yQ3yJMDsaE9JScG6det4lkY/ODk5QSKR4IUXXmAj1WUyGbZs2YKdO3dizpw57B46Lun/7oOAgECfhNOUC4y3Eh4ejk8++YSrbjmjvr4eQEuel82bN2P16tU8SyTQlqSkJAAt2QLLysrYHckDjU8++QRbt25FRUUFXzmquc3ncuDAAQAtiZVKS0t5ySxnSHbs2AEAeP/991FWVsZu1BToOzDq7ufnh4ULF7IpCgYKKpUKAODh4YF58+bx+SPOrXFhJpiefvppvPHGGwPqxtbX18PT0xNAS86Qbdu28SyRQGccPHgQa9aswfXr1+Hg4MC3OHojNjYWALBhwwbk5+djyJAhfInCrXFhSE5OxowZM5CZmTlgdqe+8847bJDcb7/9Bmtra54lEugMIkJ4eDgcHBzw/fff8y2OXigrK8OoUaMAAOvXr8eGDRv4FIcf4wIAixcvxoULF3DhwgVeZrL1yXfffYclS5awicZ1Uw0K9F0KCgrg7++P6Ohovh/EXqNUKhEWFsauTJ45c4bv1Cb8GRfmyyAinDhxAgAwePBgPkTpFT/88APmz5+PrVu3DpilzSeJY8eOYfbs2fjyyy8BgK98s71CqVRi9uzZuHbtGrKysgCgLwz1hDSXAgICBsKQxWK7ory8nNzd3cnT05M8PT0pPz+fT3F6zM6dO0kqldL69ev5FkWgF3z66ads4fqNGzeSVqvlW6Ruc/fuXQoODiZnZ2fKy8vjWxxdDFuIvjtUV1dTSEgIhYSEkEwmo6+++qpP39x79+7RK6+8Qq+88gpJJBL66KOP+BZJQA/Ex8dTfHw8mZqa0tSpU+nWrVt8i9QpiYmJlJiYSEOGDCFvb28qKCjgW6S28G9ciIiampqoqamJ1q5dSxKJhMLCwig7O5tvsVqhUqlo586d5OjoSEOHDqWhQ4fSyZMn+RZLQM9cvHiRfH19ycLCgv7+979TfX093yK1oqCggF5++WUCQADotddeI7lDgmvgAAACrElEQVRczrdY7dE3jIsuGRkZNHbsWAJAzz33HD333HOUkpJCGo2GF3lqa2vpn//8Jz311FNkbGxMq1atorq6Oqqrq+NFHgHD8/DhQ4qJiSELCwuytbWlzZs30+bNm6miooI3mS5evEivvvoqGRkZkY+PD+u59GH6nnFhOHnyJIWGhlJoaCgBoGHDhtG7775L586dI6VSabB+f//9d9q5cydFRERQREQEGRsbk6WlJa1cuZKKiooM1q9A36OmpoZiYmLI1taWbG1tSSKRUHh4OMXFxRlUF9RqNZ05c4bWrFlDbm5u5ObmRgBozJgxdODAAVKpVAbrW4/ECKtFAgICBoG3OJeeUFBQgP/85z9ISEhAbm4ujIyM2E2QAQEBcHd3x4gRIzBixAi26Le1tTWkUilkMhmUSiW7qbC+vh61tbWor69HcXEx8vLyAAC5ubnIy8tDWVkZbGxsMH36dADAzJkz8fzzz3dZK1pg4MKkx0xOTkZ8fDyOHz8OhULB1m0OCgqCj48Pq4NMzhhzc3NYWlrCzMwMJiYmbFlXpgB9fX09qqqqcP36dQAttb1+++03XL9+HUqlEoGBgZg5cyaAFj1kom/7CfwF0T0uFRUVSEtLw/nz5wEAWVlZKC4uxp07d9ot79EZlpaWePrppwEAzzzzDHx8fBAYGIiQkBChgLxAh6hUKly5cgVpaWkAWupW5eXl4fbt25DL5T1ub8SIEQAAHx8f+Pn5wdfXF6GhoXB1ddWn2FzT/4xLR6hUKpSVlbGF6OVyOdRqNeRyOczMzNji31ZWVpDJZLC0tISDgwNEIhGfYgsMMGpra9lUrg0NDezR3NzMetWWlpbs4eDgAHNzcz5FNhQDx7gICAj0KYTwfwEBAcMgGBcBAQGDIBgXAQEBgyAYFwEBAYPw/7lLVMpDI1E9AAAAAElFTkSuQmCC\" y=\"-10.661538\"/>\r\n   </g>\r\n  </g>\r\n </g>\r\n <defs>\r\n  <clipPath id=\"p8a2c7bfc7c\">\r\n   <rect height=\"98.961538\" width=\"279\" x=\"26.925\" y=\"10.7\"/>\r\n  </clipPath>\r\n </defs>\r\n</svg>\r\n",
      "image/png": "[encoded data removed]",
      "text/plain": "<matplotlib.figure.Figure at 0x2494abcc940>"
     },
     "metadata": {
      "needs_background": "light"
     }
    }
   ],
   "source": [
    "show_model(model, figsize=(5, 5), filename=\"example.png\", overwrite=True, show_ends=False)"
   ]
  },
  {
   "cell_type": "markdown",
   "metadata": {},
   "source": [
    "### Checking the Model\n",
    "The states of the model can be accessed using array syntax on the `HMM.states` attribute, and the transition matrix can be accessed by calling `HMM.dense_transition_matrix()`. Element $(i, j)$ encodes the probability of transitioning from state $i$ to state $j$. For example, with the default column order specified, element $(2, 1)$ gives the probability of transitioning from \"Rainy\" to \"Sunny\", which we specified as 0.4.\n",
    "\n",
    "Run the next cell to inspect the full state transition matrix, then read the . "
   ]
  },
  {
   "cell_type": "code",
   "execution_count": 14,
   "metadata": {},
   "outputs": [
    {
     "output_type": "stream",
     "name": "stdout",
     "text": [
      "The state transition matrix, P(Xt|Xt-1):\n\n[[0.  0.5 0.5 0. ]\n [0.  0.8 0.2 0. ]\n [0.  0.4 0.6 0. ]\n [0.  0.  0.  0. ]]\n\nThe transition probability from Rainy to Sunny is 40%\n"
     ]
    }
   ],
   "source": [
    "column_order = [\"Example Model-start\", \"Sunny\", \"Rainy\", \"Example Model-end\"]  # Override the Pomegranate default order\n",
    "column_names = [s.name for s in model.states]\n",
    "order_index = [column_names.index(c) for c in column_order]\n",
    "\n",
    "# re-order the rows/columns to match the specified column order\n",
    "transitions = model.dense_transition_matrix()[:, order_index][order_index, :]\n",
    "print(\"The state transition matrix, P(Xt|Xt-1):\\n\")\n",
    "print(transitions)\n",
    "print(\"\\nThe transition probability from Rainy to Sunny is {:.0f}%\".format(100 * transitions[2, 1]))"
   ]
  },
  {
   "source": [
    "## Inference in Hidden Markov Models\n",
    "---\n",
    "Before moving on, we'll use this simple network to quickly go over the Pomegranate API to perform the three most common HMM tasks:\n",
    "\n",
    "<div class=\"alert alert-block alert-info\">\n",
    "**Likelihood Evaluation**<br>\n",
    "Given a model $\\lambda=(A,B)$ and a set of observations $Y$, determine $P(Y|\\lambda)$, the likelihood of observing that sequence from the model\n",
    "</div>\n",
    "\n",
    "We can use the weather prediction model to evaluate the likelihood of the sequence [yes, yes, yes, yes, yes] (or any other state sequence). The likelihood is often used in problems like machine translation to weight interpretations in conjunction with a statistical language model.\n",
    "\n",
    "<div class=\"alert alert-block alert-info\">\n",
    "**Hidden State Decoding**<br>\n",
    "Given a model $\\lambda=(A,B)$ and a set of observations $Y$, determine $Q$, the most likely sequence of hidden states in the model to produce the observations\n",
    "</div>\n",
    "\n",
    "We can use the weather prediction model to determine the most likely sequence of Rainy/Sunny states for a known observation sequence, like [yes, no] -> [Rainy, Sunny]. We will use decoding in the part of speech tagger to determine the tag for each word of a sentence. The decoding can be further split into \"smoothing\" when we want to calculate past states, \"filtering\" when we want to calculate the current state, or \"prediction\" if we want to calculate future states. \n",
    "\n",
    "<div class=\"alert alert-block alert-info\">\n",
    "**Parameter Learning**<br>\n",
    "Given a model topography (set of states and connections) and a set of observations $Y$, learn the transition probabilities $A$ and emission probabilities $B$ of the model, $\\lambda=(A,B)$\n",
    "</div>\n",
    "\n",
    "We don't need to learn the model parameters for the weather problem or POS tagging, but it is supported by Pomegranate.\n",
    "\n",
    "### IMPLEMENTATION: Calculate Sequence Likelihood\n",
    "\n",
    "Calculating the likelihood of an observation sequence from an HMM network is performed with the [forward algorithm](https://en.wikipedia.org/wiki/Forward_algorithm). Pomegranate provides the the `HMM.forward()` method to calculate the full matrix showing the likelihood of aligning each observation to each state in the HMM, and the `HMM.log_probability()` method to calculate the cumulative likelihood over all possible hidden state paths that the specified model generated the observation sequence.\n",
    "\n",
    "Fill in the code in the next section with a sample observation sequence and then use the `forward()` and `log_probability()` methods to evaluate the sequence."
   ],
   "cell_type": "markdown",
   "metadata": {}
  },
  {
   "cell_type": "code",
   "execution_count": 94,
   "metadata": {},
   "outputs": [
    {
     "name": "stdout",
     "output_type": "stream",
     "text": [
      "            Rainy      Sunny      Example Model-start      Example Model-end   \n",
      " <start>      0%         0%               100%                     0%          \n",
      "   yes       40%         5%                0%                      0%          \n",
      "    no        5%        18%                0%                      0%          \n",
      "   yes        5%         2%                0%                      0%          \n",
      "\n",
      "The likelihood over all possible paths of this model producing the sequence ['yes', 'no', 'yes'] is 6.92%\n",
      "\n",
      "\n"
     ]
    }
   ],
   "source": [
    "# TODO: input a sequence of 'yes'/'no' values in the list below for testing\n",
    "observations = ['yes', 'no', 'yes']\n",
    "\n",
    "assert len(observations) > 0, \"You need to choose a sequence of 'yes'/'no' observations to test\"\n",
    "\n",
    "# TODO: use model.forward() to calculate the forward matrix of the observed sequence,\n",
    "# and then use np.exp() to convert from log-likelihood to likelihood\n",
    "forward_matrix = np.exp(model.forward(observations))\n",
    "\n",
    "# TODO: use model.log_probability() to calculate the all-paths likelihood of the\n",
    "# observed sequence and then use np.exp() to convert log-likelihood to likelihood\n",
    "probability_percentage = np.exp(model.log_probability(observations))\n",
    "\n",
    "# Display the forward probabilities\n",
    "print(\"         \" + \"\".join(s.name.center(len(s.name)+6) for s in model.states))\n",
    "for i in range(len(observations) + 1):\n",
    "    print(\" <start> \" if i==0 else observations[i - 1].center(9), end=\"\")\n",
    "    print(\"\".join(\"{:.0f}%\".format(100 * forward_matrix[i, j]).center(len(s.name) + 6)\n",
    "                  for j, s in enumerate(model.states)))\n",
    "\n",
    "print(\"\\nThe likelihood over all possible paths \" + \\\n",
    "      \"of this model producing the sequence {} is {:.2f}%\\n\\n\"\n",
    "      .format(observations, 100 * probability_percentage))"
   ]
  },
  {
   "cell_type": "markdown",
   "metadata": {},
   "source": [
    "### IMPLEMENTATION: Decoding the Most Likely Hidden State Sequence\n",
    "\n",
    "The [Viterbi algorithm](https://en.wikipedia.org/wiki/Viterbi_algorithm) calculates the single path with the highest likelihood to produce a specific observation sequence. Pomegranate provides the `HMM.viterbi()` method to calculate both the hidden state sequence and the corresponding likelihood of the viterbi path.\n",
    "\n",
    "This is called \"decoding\" because we use the observation sequence to decode the corresponding hidden state sequence. In the part of speech tagging problem, the hidden states map to parts of speech and the observations map to sentences. Given a sentence, Viterbi decoding finds the most likely sequence of part of speech tags corresponding to the sentence.\n",
    "\n",
    "Fill in the code in the next section with the same sample observation sequence you used above, and then use the `model.viterbi()` method to calculate the likelihood and most likely state sequence. Compare the Viterbi likelihood against the forward algorithm likelihood for the observation sequence."
   ]
  },
  {
   "cell_type": "code",
   "execution_count": 96,
   "metadata": {},
   "outputs": [
    {
     "name": "stdout",
     "output_type": "stream",
     "text": [
      "The most likely weather sequence to have generated these observations is ['Rainy', 'Sunny', 'Rainy'] at 2.30%.\n"
     ]
    }
   ],
   "source": [
    "# TODO: input a sequence of 'yes'/'no' values in the list below for testing\n",
    "observations = ['yes', 'no', 'yes']\n",
    "\n",
    "# TODO: use model.viterbi to find the sequence likelihood & the most likely path\n",
    "viterbi_likelihood, viterbi_path = model.viterbi(observations)\n",
    "\n",
    "print(\"The most likely weather sequence to have generated \" + \\\n",
    "      \"these observations is {} at {:.2f}%.\"\n",
    "      .format([s[1].name for s in viterbi_path[1:]], np.exp(viterbi_likelihood)*100)\n",
    ")"
   ]
  },
  {
   "cell_type": "markdown",
   "metadata": {},
   "source": [
    "### Forward likelihood vs Viterbi likelihood\n",
    "Run the cells below to see the likelihood of each sequence of observations with length 3, and compare with the viterbi path."
   ]
  },
  {
   "cell_type": "code",
   "execution_count": 103,
   "metadata": {},
   "outputs": [
    {
     "name": "stdout",
     "output_type": "stream",
     "text": [
      "The likelihood of observing ['no', 'no', 'yes'] if the weather sequence is...\n",
      "\t('Sunny', 'Sunny', 'Sunny') is 2.59% \n",
      "\t('Sunny', 'Sunny', 'Rainy') is 5.18%  <-- Viterbi path\n",
      "\t('Sunny', 'Rainy', 'Sunny') is 0.07% \n",
      "\t('Sunny', 'Rainy', 'Rainy') is 0.86% \n",
      "\t('Rainy', 'Sunny', 'Sunny') is 0.29% \n",
      "\t('Rainy', 'Sunny', 'Rainy') is 0.58% \n",
      "\t('Rainy', 'Rainy', 'Sunny') is 0.05% \n",
      "\t('Rainy', 'Rainy', 'Rainy') is 0.58% \n",
      "\n",
      "The total likelihood of observing ['no', 'no', 'yes'] over all possible paths is 10.20%\n"
     ]
    }
   ],
   "source": [
    "from itertools import product\n",
    "\n",
    "observations = ['no', 'no', 'yes']\n",
    "\n",
    "p = {'Sunny': {'Sunny': np.log(.8), 'Rainy': np.log(.2)}, 'Rainy': {'Sunny': np.log(.4), 'Rainy': np.log(.6)}}\n",
    "e = {'Sunny': {'yes': np.log(.1), 'no': np.log(.9)}, 'Rainy':{'yes':np.log(.8), 'no':np.log(.2)}}\n",
    "o = observations\n",
    "k = []\n",
    "vprob = np.exp(model.viterbi(o)[0])\n",
    "print(\"The likelihood of observing {} if the weather sequence is...\".format(o))\n",
    "for s in product(*[['Sunny', 'Rainy']]*3):\n",
    "    k.append(np.exp(np.log(.5)+e[s[0]][o[0]] + p[s[0]][s[1]] + e[s[1]][o[1]] + p[s[1]][s[2]] + e[s[2]][o[2]]))\n",
    "    print(\"\\t{} is {:.2f}% {}\".format(s, 100 * k[-1], \" <-- Viterbi path\" if k[-1] == vprob else \"\"))\n",
    "print(\"\\nThe total likelihood of observing {} over all possible paths is {:.2f}%\".format(o, 100*sum(k)))"
   ]
  },
  {
   "cell_type": "markdown",
   "metadata": {},
   "source": [
    "### Congratulations!\n",
    "You've now finished the HMM warmup. You should have all the tools you need to complete the part of speech tagger project."
   ]
  }
 ],
 "metadata": {
  "kernelspec": {
   "name": "python3",
   "display_name": "Python 3.5.4 64-bit ('aind': conda)",
   "metadata": {
    "interpreter": {
     "hash": "c386103ec123df046b300a5e8ac12ba8ea5df8fa4dc541ed9d142e20e4a4767b"
    }
   }
  },
  "language_info": {
   "codemirror_mode": {
    "name": "ipython",
    "version": 3
   },
   "file_extension": ".py",
   "mimetype": "text/x-python",
   "name": "python",
   "nbconvert_exporter": "python",
   "pygments_lexer": "ipython3",
   "version": "3.5.4-final"
  }
 },
 "nbformat": 4,
 "nbformat_minor": 2
}