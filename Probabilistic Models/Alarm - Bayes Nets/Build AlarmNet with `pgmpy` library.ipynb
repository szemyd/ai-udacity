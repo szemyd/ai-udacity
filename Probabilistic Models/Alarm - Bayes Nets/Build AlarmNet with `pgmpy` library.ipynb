{
 "cells": [
  {
   "cell_type": "markdown",
   "metadata": {
    "toc": true
   },
   "source": [
    "<h1>Table of Contents<span class=\"tocSkip\"></span></h1>\n",
    "<div class=\"toc\"><ul class=\"toc-item\"><li><span><a href=\"#Intro-to-pgmpy-library\" data-toc-modified-id=\"Intro-to-pgmpy-library-1\"><span class=\"toc-item-num\">1&nbsp;&nbsp;</span>Intro to <code>pgmpy</code> library</a></span></li><li><span><a href=\"#Alarm-Bayes-Network-Schema\" data-toc-modified-id=\"Alarm-Bayes-Network-Schema-2\"><span class=\"toc-item-num\">2&nbsp;&nbsp;</span>Alarm Bayes Network Schema</a></span></li><li><span><a href=\"#Set-up-alarm-Bayes-Nets-using-pgmpy-library\" data-toc-modified-id=\"Set-up-alarm-Bayes-Nets-using-pgmpy-library-3\"><span class=\"toc-item-num\">3&nbsp;&nbsp;</span>Set up alarm Bayes Nets using <code>pgmpy</code> library</a></span></li><li><span><a href=\"#Provide-conditional-probability-distributions-from-the-network\" data-toc-modified-id=\"Provide-conditional-probability-distributions-from-the-network-4\"><span class=\"toc-item-num\">4&nbsp;&nbsp;</span>Provide conditional probability distributions from the network</a></span></li><li><span><a href=\"#Check-Bayes-Nets-model-and-probability-distributions\" data-toc-modified-id=\"Check-Bayes-Nets-model-and-probability-distributions-5\"><span class=\"toc-item-num\">5&nbsp;&nbsp;</span>Check Bayes Nets model and probability distributions</a></span></li><li><span><a href=\"#Make-the-inferences-using-VariableElimination-function\" data-toc-modified-id=\"Make-the-inferences-using-VariableElimination-function-6\"><span class=\"toc-item-num\">6&nbsp;&nbsp;</span>Make the inferences using <code>VariableElimination</code> function</a></span></li><li><span><a href=\"#Notes\" data-toc-modified-id=\"Notes-7\"><span class=\"toc-item-num\">7&nbsp;&nbsp;</span>Notes</a></span></li></ul></div>"
   ]
  },
  {
   "cell_type": "markdown",
   "metadata": {},
   "source": [
    "### Intro to `pgmpy` library\n",
    "\n",
    "[pgmpy](http://pgmpy.org/) is a python library for working with Probabilistic Graphical Models. This library enables users to build probabilistic graphical models and use its built-in functions to make inferences using algorithms, such as Bayes Network and Markov Network. Please refer to [this paper](https://conference.scipy.org/proceedings/scipy2015/pdfs/ankur_ankan.pdf) for a quick intro to pgmpy library."
   ]
  },
  {
   "cell_type": "code",
   "execution_count": 3,
   "metadata": {},
   "outputs": [
    {
     "output_type": "stream",
     "name": "stdout",
     "text": [
      "Collecting pgmpyWARNING: The candidate selected for download or install is a yanked version: 'torch' candidate (version 0.1.2.post2 at https://files.pythonhosted.org/packages/f8/02/880b468bd382dc79896eaecbeb8ce95e9c4b99a24902874a2cef0b562cea/torch-0.1.2.post2.tar.gz#sha256=a43e37f8f927c5b18f80cd163daaf6a1920edafcab5102e02e3e14bb97d9c874 (from https://pypi.org/simple/torch/))\n",
      "Reason for being yanked: 0.1.2 is past it's support date and confuses users on unsupported platforms\n",
      "    ERROR: Command errored out with exit status 1:\n",
      "     command: 'c:\\users\\danie\\appdata\\local\\programs\\python\\python38-32\\python.exe' -u -c 'import sys, setuptools, tokenize; sys.argv[0] = '\"'\"'C:\\\\Users\\\\danie\\\\AppData\\\\Local\\\\Temp\\\\pip-install-7hv90du7\\\\torch\\\\setup.py'\"'\"'; __file__='\"'\"'C:\\\\Users\\\\danie\\\\AppData\\\\Local\\\\Temp\\\\pip-install-7hv90du7\\\\torch\\\\setup.py'\"'\"';f=getattr(tokenize, '\"'\"'open'\"'\"', open)(__file__);code=f.read().replace('\"'\"'\\r\\n'\"'\"', '\"'\"'\\n'\"'\"');f.close();exec(compile(code, __file__, '\"'\"'exec'\"'\"'))' install --record 'C:\\Users\\danie\\AppData\\Local\\Temp\\pip-record-8ea6k9vo\\install-record.txt' --single-version-externally-managed --compile --install-headers 'c:\\users\\danie\\appdata\\local\\programs\\python\\python38-32\\Include\\torch'\n",
      "         cwd: C:\\Users\\danie\\AppData\\Local\\Temp\\pip-install-7hv90du7\\torch\\\n",
      "    Complete output (23 lines):\n",
      "    running install\n",
      "    running build_deps\n",
      "    Traceback (most recent call last):\n",
      "      File \"<string>\", line 1, in <module>\n",
      "      File \"C:\\Users\\danie\\AppData\\Local\\Temp\\pip-install-7hv90du7\\torch\\setup.py\", line 225, in <module>\n",
      "        setup(name=\"torch\", version=\"0.1.2.post2\",\n",
      "      File \"c:\\users\\danie\\appdata\\local\\programs\\python\\python38-32\\lib\\site-packages\\setuptools\\__init__.py\", line 145, in setup\n",
      "        return distutils.core.setup(**attrs)\n",
      "      File \"c:\\users\\danie\\appdata\\local\\programs\\python\\python38-32\\lib\\distutils\\core.py\", line 148, in setup\n",
      "        dist.run_commands()\n",
      "      File \"c:\\users\\danie\\appdata\\local\\programs\\python\\python38-32\\lib\\distutils\\dist.py\", line 966, in run_commands\n",
      "        self.run_command(cmd)\n",
      "      File \"c:\\users\\danie\\appdata\\local\\programs\\python\\python38-32\\lib\\distutils\\dist.py\", line 985, in run_command\n",
      "        cmd_obj.run()\n",
      "\n",
      "  Using cached pgmpy-0.1.13-py3-none-any.whl (324 kB)\n",
      "Requirement already satisfied: tqdm in c:\\users\\danie\\appdata\\local\\programs\\python\\python38-32\\lib\\site-packages (from pgmpy) (4.44.1)\n",
      "Collecting torch\n",
      "  Using cached torch-0.1.2.post2.tar.gz (128 kB)\n",
      "Requirement already satisfied: joblib in c:\\users\\danie\\appdata\\local\\programs\\python\\python38-32\\lib\\site-packages (from pgmpy) (1.0.0)\n",
      "Requirement already satisfied: pandas in c:\\users\\danie\\appdata\\local\\programs\\python\\python38-32\\lib\\site-packages (from pgmpy) (1.0.3)\n",
      "Requirement already satisfied: scipy in c:\\users\\danie\\appdata\\roaming\\python\\python38\\site-packages (from pgmpy) (1.4.1)\n",
      "Requirement already satisfied: numpy in c:\\users\\danie\\appdata\\local\\programs\\python\\python38-32\\lib\\site-packages (from pgmpy) (1.18.2)\n",
      "Requirement already satisfied: networkx in c:\\users\\danie\\appdata\\local\\programs\\python\\python38-32\\lib\\site-packages (from pgmpy) (2.4)\n",
      "Requirement already satisfied: scikit-learn in c:\\users\\danie\\appdata\\local\\programs\\python\\python38-32\\lib\\site-packages (from pgmpy) (0.24.1)\n",
      "Requirement already satisfied: statsmodels in c:\\users\\danie\\appdata\\local\\programs\\python\\python38-32\\lib\\site-packages (from pgmpy) (0.12.2)\n",
      "Requirement already satisfied: pyparsing in c:\\users\\danie\\appdata\\local\\programs\\python\\python38-32\\lib\\site-packages (from pgmpy) (2.4.6)\n",
      "Requirement already satisfied: pyyaml in c:\\users\\danie\\appdata\\local\\programs\\python\\python38-32\\lib\\site-packages (from torch->pgmpy) (5.3.1)\n",
      "Requirement already satisfied: pytz>=2017.2 in c:\\users\\danie\\appdata\\local\\programs\\python\\python38-32\\lib\\site-packages (from pandas->pgmpy) (2019.3)\n",
      "Requirement already satisfied: python-dateutil>=2.6.1 in c:\\users\\danie\\appdata\\local\\programs\\python\\python38-32\\lib\\site-packages (from pandas->pgmpy) (2.8.1)\n",
      "Requirement already satisfied: decorator>=4.3.0 in c:\\users\\danie\\appdata\\local\\programs\\python\\python38-32\\lib\\site-packages (from networkx->pgmpy) (4.4.2)\n",
      "Requirement already satisfied: threadpoolctl>=2.0.0 in c:\\users\\danie\\appdata\\local\\programs\\python\\python38-32\\lib\\site-packages (from scikit-learn->pgmpy) (2.1.0)\n",
      "Requirement already satisfied: patsy>=0.5 in c:\\users\\danie\\appdata\\local\\programs\\python\\python38-32\\lib\\site-packages (from statsmodels->pgmpy) (0.5.1)\n",
      "Requirement already satisfied: six>=1.5 in c:\\users\\danie\\appdata\\roaming\\python\\python38\\site-packages (from python-dateutil>=2.6.1->pandas->pgmpy) (1.14.0)\n",
      "Installing collected packages: torch, pgmpy\n",
      "    Running setup.py install for torch: started\n",
      "    Running setup.py install for torch: finished with status 'error'\n",
      "      File \"C:\\Users\\danie\\AppData\\Local\\Temp\\pip-install-7hv90du7\\torch\\setup.py\", line 99, in run\n",
      "        self.run_command('build_deps')\n",
      "      File \"c:\\users\\danie\\appdata\\local\\programs\\python\\python38-32\\lib\\distutils\\cmd.py\", line 313, in run_command\n",
      "        self.distribution.run_command(command)\n",
      "      File \"c:\\users\\danie\\appdata\\local\\programs\\python\\python38-32\\lib\\distutils\\dist.py\", line 985, in run_command\n",
      "        cmd_obj.run()\n",
      "      File \"C:\\Users\\danie\\AppData\\Local\\Temp\\pip-install-7hv90du7\\torch\\setup.py\", line 51, in run\n",
      "        from tools.nnwrap import generate_wrappers as generate_nn_wrappers\n",
      "    ModuleNotFoundError: No module named 'tools.nnwrap'\n",
      "    ----------------------------------------\n",
      "ERROR: Command errored out with exit status 1: 'c:\\users\\danie\\appdata\\local\\programs\\python\\python38-32\\python.exe' -u -c 'import sys, setuptools, tokenize; sys.argv[0] = '\"'\"'C:\\\\Users\\\\danie\\\\AppData\\\\Local\\\\Temp\\\\pip-install-7hv90du7\\\\torch\\\\setup.py'\"'\"'; __file__='\"'\"'C:\\\\Users\\\\danie\\\\AppData\\\\Local\\\\Temp\\\\pip-install-7hv90du7\\\\torch\\\\setup.py'\"'\"';f=getattr(tokenize, '\"'\"'open'\"'\"', open)(__file__);code=f.read().replace('\"'\"'\\r\\n'\"'\"', '\"'\"'\\n'\"'\"');f.close();exec(compile(code, __file__, '\"'\"'exec'\"'\"'))' install --record 'C:\\Users\\danie\\AppData\\Local\\Temp\\pip-record-8ea6k9vo\\install-record.txt' --single-version-externally-managed --compile --install-headers 'c:\\users\\danie\\appdata\\local\\programs\\python\\python38-32\\Include\\torch' Check the logs for full command output.\n",
      "WARNING: You are using pip version 20.0.2; however, version 21.0.1 is available.\n",
      "You should consider upgrading via the 'c:\\users\\danie\\appdata\\local\\programs\\python\\python38-32\\python.exe -m pip install --upgrade pip' command.\n"
     ]
    }
   ],
   "source": [
    "# install pgmpy library\n",
    "!pip install pgmpy"
   ]
  },
  {
   "cell_type": "code",
   "execution_count": 1,
   "metadata": {},
   "outputs": [],
   "source": [
    "# import modules\n",
    "from pgmpy.models import BayesianModel\n",
    "from pgmpy.factors.discrete import TabularCPD\n",
    "from pgmpy.inference import VariableElimination"
   ]
  },
  {
   "cell_type": "markdown",
   "metadata": {},
   "source": [
    "### Alarm Bayes Network Schema\n",
    "\n",
    "<img src=\"network.png\" width=600 />"
   ]
  },
  {
   "cell_type": "markdown",
   "metadata": {},
   "source": [
    "### Set up alarm Bayes Nets using `pgmpy` library\n",
    "\n",
    "Once we imported the file, we can instantiate a `BayesianModel` to build our model as shown in the figure above.\n",
    "\n",
    "    `AlarmNet = BayesianModel()`\n",
    "\n",
    "Now we can add the nodes using `add_node(name)` into the model. As shown in the figure above, we will add five nodes as follows: `Burglary`, `Earthquake`, `Alarm`, `John calls`, and `Mary calls`.\n",
    "\n",
    "    `AlarmNet.add_node(\"Burglary\")`\n",
    "\n",
    "Next we can connect the nodes using `add_edge()` where the nodes are connected in the graph. This function takes 2 inputs, ie. parent node and child node.\n",
    "    \n",
    "    `AlarmNet.add_edge(\"temperature\",\"alarm\")`"
   ]
  },
  {
   "cell_type": "code",
   "execution_count": 2,
   "metadata": {},
   "outputs": [],
   "source": [
    "# Instantiate PGMPY's Bayesian Model\n",
    "AlarmNet = BayesianModel()\n",
    "\n",
    "# Add the nodes\n",
    "AlarmNet.add_node(\"Burglary\")\n",
    "AlarmNet.add_node(\"Earthquake\")\n",
    "AlarmNet.add_node(\"Alarm\")\n",
    "AlarmNet.add_node(\"John calls\")\n",
    "AlarmNet.add_node(\"Mary calls\")\n",
    "\n",
    "# Connect the nodes\n",
    "AlarmNet.add_edge(\"Burglary\", \"Alarm\")\n",
    "AlarmNet.add_edge(\"Earthquake\", \"Alarm\")\n",
    "AlarmNet.add_edge(\"Alarm\", \"John calls\")\n",
    "AlarmNet.add_edge(\"Alarm\", \"Mary calls\")"
   ]
  },
  {
   "cell_type": "markdown",
   "metadata": {},
   "source": [
    "### Provide conditional probability distributions from the network\n",
    "\n",
    "Now that the graph has been set up, we can add the probability distributions by using PGMPY's `TabularCPD` function.\n",
    "\n",
    "This function takes the following inputs:\n",
    "- `variable`: the name of the node\n",
    "- `variable_card`: the number of elements in the probability distribution. 2 for a binary node, ie. `True` or `False`.\n",
    "- `values`: the probability distributions.\n",
    "- `evidences`: the parents of the node.\n",
    "- `evidence_card`: the dimensions of the probability distribution according to the number of parent nodes.\n",
    "\n",
    "For node 'Burglary' with two possible values, where P(+B)=0.999 and P(¬B)=0.001, we can set the probability with the following command:\n",
    "\n",
    "    cpd_burglary = TabularCPD('Burglary', 2, \n",
    "                               values=[[0.001], [0.999]])\n",
    "\n",
    "For this conditional probability distribution of P(John calls|Alarm):\n",
    "\n",
    "|  Alarm  |P(JohnCalls=true given Alarm)|\n",
    "| ------ | ----- |\n",
    "|  T   | 0.9|\n",
    "|  F   | 0.05| \n",
    "\n",
    "the command is:\n",
    "\n",
    "    cpd_js = TabularCPD('John calls', 2, \n",
    "                        values=[[0.95, 0.1], [ 0.05, 0.9]], \n",
    "                        evidence=['Alarm'], evidence_card=[2])\n",
    "\n",
    "Finally, in a 3-nodes relationship where P(Alarm|Burglary, Earthquake):\n",
    "\n",
    "| Burglary   |  Earthquake  |P(Alarm=true given Burglary and Earthquake)|\n",
    "| --- | --- |:----:|\n",
    "|T|T|0.95|\n",
    "|T|F|0.94|\n",
    "|F|T|0.29|\n",
    "|F|F|0.001|\n",
    "\n",
    "the command is:\n",
    "\n",
    "    cpd_abc = TabularCPD('A', 2, \n",
    "                         values=[[0.999, 0.71, 0.06, 0.05], [0.001, 0.29, 0.94, 0.95]], \n",
    "                         evidence=['G', 'T'], evidence_card=[2, 2])\n"
   ]
  },
  {
   "cell_type": "code",
   "execution_count": 3,
   "metadata": {},
   "outputs": [],
   "source": [
    "cpd_burglary = TabularCPD(variable='Burglary', \n",
    "                          variable_card=2,\n",
    "                          values=[[.999], [0.001]])\n",
    "\n",
    "cpd_earthquake = TabularCPD(variable='Earthquake', \n",
    "                            variable_card=2,\n",
    "                            values=[[0.998], [0.002]])\n",
    "\n",
    "cpd_alarm = TabularCPD(variable='Alarm', \n",
    "                       variable_card=2,\n",
    "                       values=[[0.999, 0.71, 0.06, 0.05],\n",
    "                               [0.001, 0.29, 0.94, 0.95]],\n",
    "                       evidence=['Burglary', 'Earthquake'],\n",
    "                       evidence_card=[2, 2])\n",
    "\n",
    "cpd_johncalls = TabularCPD(variable='John calls', \n",
    "                           variable_card=2,\n",
    "                           values=[[0.95, 0.1],\n",
    "                                   [0.05, 0.9]],\n",
    "                           evidence=['Alarm'], \n",
    "                           evidence_card=[2])\n",
    "\n",
    "cpd_marycalls = TabularCPD(variable='Mary calls', \n",
    "                           variable_card=2,\n",
    "                           values=[[0.1, 0.7], \n",
    "                                   [0.9, 0.3]],\n",
    "                           evidence=['Alarm'], \n",
    "                           evidence_card=[2])\n",
    "\n",
    "# Associate CPDs with the model structure\n",
    "AlarmNet.add_cpds(cpd_burglary, \n",
    "                     cpd_earthquake, \n",
    "                     cpd_alarm, \n",
    "                     cpd_johncalls, \n",
    "                     cpd_marycalls)"
   ]
  },
  {
   "cell_type": "markdown",
   "metadata": {},
   "source": [
    "### Check Bayes Nets model and probability distributions"
   ]
  },
  {
   "cell_type": "code",
   "execution_count": 4,
   "metadata": {},
   "outputs": [
    {
     "output_type": "execute_result",
     "data": {
      "text/plain": [
       "True"
      ]
     },
     "metadata": {},
     "execution_count": 4
    }
   ],
   "source": [
    "# Checking the distributions validity\n",
    "AlarmNet.check_model()"
   ]
  },
  {
   "cell_type": "code",
   "execution_count": 5,
   "metadata": {},
   "outputs": [
    {
     "output_type": "execute_result",
     "data": {
      "text/plain": [
       "NodeView(('Burglary', 'Earthquake', 'Alarm', 'John calls', 'Mary calls'))"
      ]
     },
     "metadata": {},
     "execution_count": 5
    }
   ],
   "source": [
    "# Get the nodes of the model\n",
    "AlarmNet.nodes()"
   ]
  },
  {
   "cell_type": "code",
   "execution_count": 6,
   "metadata": {},
   "outputs": [
    {
     "output_type": "execute_result",
     "data": {
      "text/plain": [
       "OutEdgeView([('Burglary', 'Alarm'), ('Earthquake', 'Alarm'), ('Alarm', 'John calls'), ('Alarm', 'Mary calls')])"
      ]
     },
     "metadata": {},
     "execution_count": 6
    }
   ],
   "source": [
    "# Get the edges of the model\n",
    "AlarmNet.edges()"
   ]
  },
  {
   "cell_type": "code",
   "execution_count": 7,
   "metadata": {},
   "outputs": [
    {
     "output_type": "execute_result",
     "data": {
      "text/plain": [
       "(Burglary _|_ Earthquake)"
      ]
     },
     "metadata": {},
     "execution_count": 7
    }
   ],
   "source": [
    "# Check the independencies of a node\n",
    "AlarmNet.local_independencies('Burglary')"
   ]
  },
  {
   "cell_type": "code",
   "execution_count": 8,
   "metadata": {},
   "outputs": [
    {
     "output_type": "execute_result",
     "data": {
      "text/plain": [
       "(Burglary _|_ Earthquake)\n",
       "(Burglary _|_ John calls, Mary calls | Alarm)\n",
       "(Burglary _|_ Mary calls | Alarm, John calls)\n",
       "(Burglary _|_ John calls, Mary calls | Alarm, Earthquake)\n",
       "(Burglary _|_ John calls | Alarm, Mary calls)\n",
       "(Burglary _|_ Mary calls | Alarm, John calls, Earthquake)\n",
       "(Burglary _|_ John calls | Alarm, Earthquake, Mary calls)\n",
       "(Earthquake _|_ Burglary)\n",
       "(Earthquake _|_ John calls, Mary calls | Alarm)\n",
       "(Earthquake _|_ John calls, Mary calls | Alarm, Burglary)\n",
       "(Earthquake _|_ Mary calls | Alarm, John calls)\n",
       "(Earthquake _|_ John calls | Alarm, Mary calls)\n",
       "(Earthquake _|_ Mary calls | Alarm, Burglary, John calls)\n",
       "(Earthquake _|_ John calls | Alarm, Burglary, Mary calls)\n",
       "(John calls _|_ Burglary, Earthquake, Mary calls | Alarm)\n",
       "(John calls _|_ Earthquake, Mary calls | Alarm, Burglary)\n",
       "(John calls _|_ Burglary, Mary calls | Alarm, Earthquake)\n",
       "(John calls _|_ Burglary, Earthquake | Alarm, Mary calls)\n",
       "(John calls _|_ Mary calls | Alarm, Burglary, Earthquake)\n",
       "(John calls _|_ Earthquake | Alarm, Burglary, Mary calls)\n",
       "(John calls _|_ Burglary | Alarm, Earthquake, Mary calls)\n",
       "(Mary calls _|_ Burglary, John calls, Earthquake | Alarm)\n",
       "(Mary calls _|_ John calls, Earthquake | Alarm, Burglary)\n",
       "(Mary calls _|_ Burglary, Earthquake | Alarm, John calls)\n",
       "(Mary calls _|_ Burglary, John calls | Alarm, Earthquake)\n",
       "(Mary calls _|_ Earthquake | Alarm, Burglary, John calls)\n",
       "(Mary calls _|_ John calls | Alarm, Burglary, Earthquake)\n",
       "(Mary calls _|_ Burglary | Alarm, John calls, Earthquake)"
      ]
     },
     "metadata": {},
     "execution_count": 8
    }
   ],
   "source": [
    "# List all conditional independencies\n",
    "AlarmNet.get_independencies()"
   ]
  },
  {
   "cell_type": "markdown",
   "metadata": {},
   "source": [
    "### Make the inferences using `VariableElimination` function\n",
    "\n",
    "1. Inference for a `marginal probability` of the \"Alarm\" node being True:\n",
    "```\n",
    "    solver = VariableElimination(AlarmNet)\n",
    "    marginal_prob = solver.query(variables=['Alarm'], \n",
    "                                 joint=False)\n",
    "    prob = marginal_prob['faulty alarm'].values\n",
    "```\n",
    "  \n",
    "2. Inference for a `conditional probability`, such as P('A' = false | 'B' = true, 'C' = False)):\n",
    "```\n",
    "    solver = VariableElimination(AlarmNet)\n",
    "    conditional_prob = solver.query(variables=['A'],\n",
    "                                    evidence={'B':1,'C':0}, \n",
    "                                    joint=False)\n",
    "    prob = conditional_prob['A'].values\n",
    "```    \n",
    "\n",
    "Both functions return two probabilities corresponding to `[False, True]` case. In order to get the `True` probability, we can specify `prob[1]` and `prob[0]` for `False` probability.\n"
   ]
  },
  {
   "cell_type": "code",
   "execution_count": 9,
   "metadata": {},
   "outputs": [
    {
     "output_type": "stream",
     "name": "stderr",
     "text": [
      "Finding Elimination Order: :   0%|          | 0/4 [00:00<?, ?it/s]\n",
      "  0%|          | 0/4 [00:00<?, ?it/s]\u001b[A\n",
      "Eliminating: Burglary:   0%|          | 0/4 [00:00<?, ?it/s]\u001b[A\n",
      "Eliminating: John calls:   0%|          | 0/4 [00:00<?, ?it/s]\u001b[A\n",
      "Eliminating: Earthquake:   0%|          | 0/4 [00:00<?, ?it/s]\u001b[A\n",
      "Eliminating: Mary calls: 100%|██████████| 4/4 [00:00<00:00, 222.88it/s]\n"
     ]
    },
    {
     "output_type": "execute_result",
     "data": {
      "text/plain": [
       "array([0.99748356, 0.00251644])"
      ]
     },
     "metadata": {},
     "execution_count": 9
    }
   ],
   "source": [
    "# marginal probability of the alarm node\n",
    "solver = VariableElimination(AlarmNet)\n",
    "marginal_prob = solver.query(variables=['Alarm'], joint=False)\n",
    "prob_alarm = marginal_prob['Alarm'].values\n",
    "prob_alarm"
   ]
  },
  {
   "cell_type": "code",
   "execution_count": 10,
   "metadata": {},
   "outputs": [
    {
     "output_type": "stream",
     "name": "stderr",
     "text": [
      "\n",
      "  0%|          | 0/2 [00:00<?, ?it/s]\u001b[A\n",
      "Finding Elimination Order: :   0%|          | 0/2 [00:00<?, ?it/s]\u001b[A\n",
      "\n",
      "  0%|          | 0/2 [00:00<?, ?it/s]\u001b[A\u001b[A\n",
      "\n",
      "Eliminating: John calls:   0%|          | 0/2 [00:00<?, ?it/s]\u001b[A\u001b[A\n",
      "\n",
      "Eliminating: Mary calls: 100%|██████████| 2/2 [00:00<00:00, 200.52it/s]\n"
     ]
    },
    {
     "output_type": "execute_result",
     "data": {
      "text/plain": [
       "array([0.06, 0.94])"
      ]
     },
     "metadata": {},
     "execution_count": 10
    }
   ],
   "source": [
    "# conditional probability that the alarm will be triggered when there is a burglary, but no earthquake\n",
    "solver = VariableElimination(AlarmNet)\n",
    "conditional_prob_abe = solver.query(variables=['Alarm'], evidence={'Burglary':1,'Earthquake':0}, joint=False)\n",
    "prob_cond = conditional_prob_abe['Alarm'].values\n",
    "prob_cond"
   ]
  },
  {
   "cell_type": "code",
   "execution_count": 11,
   "metadata": {},
   "outputs": [
    {
     "output_type": "stream",
     "name": "stderr",
     "text": [
      "\n",
      "\n",
      "  0%|          | 0/2 [00:00<?, ?it/s]\u001b[A\u001b[A\n",
      "\n",
      "Finding Elimination Order: :   0%|          | 0/2 [00:00<?, ?it/s]\u001b[A\u001b[A\n",
      "\n",
      "\n",
      "  0%|          | 0/2 [00:00<?, ?it/s]\u001b[A\u001b[A\u001b[A\n",
      "\n",
      "\n",
      "Eliminating: Burglary:   0%|          | 0/2 [00:00<?, ?it/s]\u001b[A\u001b[A\u001b[A\n",
      "\n",
      "\n",
      "Finding Elimination Order: : 100%|██████████| 4/4 [01:46<00:00, 26.58s/it]\n",
      "Finding Elimination Order: : 100%|██████████| 2/2 [00:49<00:00, 24.95s/it]\n",
      "Finding Elimination Order: : 100%|██████████| 2/2 [00:00<00:00, 105.34it/s]\n",
      "Eliminating: Earthquake: 100%|██████████| 2/2 [00:00<00:00, 142.87it/s]\n"
     ]
    },
    {
     "output_type": "execute_result",
     "data": {
      "text/plain": [
       "array([0.98508896, 0.01491104])"
      ]
     },
     "metadata": {},
     "execution_count": 11
    }
   ],
   "source": [
    "# conditional probability the alarm rings when both John and Mary call\n",
    "solver = VariableElimination(AlarmNet)\n",
    "conditional_prob_ajm = solver.query(variables=['Alarm'], evidence={'Mary calls':1,'John calls':1}, joint=False)\n",
    "prob_cond = conditional_prob_ajm['Alarm'].values\n",
    "prob_cond # only take the True value"
   ]
  },
  {
   "cell_type": "markdown",
   "metadata": {},
   "source": [
    "### Notes\n",
    "\n",
    "`pgmpy's variable elimination` function sometimes does not produce accurate posterior probability distributions. It is advisable to understand the conditional relationships of the query, hidden, and evidence nodes and enumerate them.\n",
    "\n",
    "From the example in the lecture videos, if we want to compute P(+b|+j, +m), we can enumerate them as:\n",
    "\n",
    "        P(+b|+j, +m) = P(+b, +j, +m) / P(+j, +m)\n",
    "        \n",
    "        # adding the sum of hidden variables\n",
    "        P(+b, +j, +m) = sum_of_e sum_of_a P(+b).P(e).P(a|+b, e).P(+j|a).P(+m|a)\n",
    "        P(+j, +m)     = sum_of_e sum_of_a sum_of_b P(b).P(e).P(a|b, e).P(+j|a).P(+m|a)\n",
    "        \n",
    "For more examples, please refer to `pgmpy`'s [Bayes Nets notebook](https://github.com/pgmpy/pgmpy_notebook/blob/master/notebooks/2.%20Bayesian%20Networks.ipynb) on its [Github repo](https://github.com/pgmpy/pgmpy)."
   ]
  },
  {
   "cell_type": "code",
   "execution_count": null,
   "metadata": {},
   "outputs": [],
   "source": []
  }
 ],
 "metadata": {
  "kernelspec": {
   "name": "python3",
   "display_name": "Python 3.7.9 64-bit (conda)",
   "metadata": {
    "interpreter": {
     "hash": "fb698bdeab99cfbf9e31cab566d99a06e057f2dec3dcc8097ebabb329e860e16"
    }
   }
  },
  "language_info": {
   "codemirror_mode": {
    "name": "ipython",
    "version": 3
   },
   "file_extension": ".py",
   "mimetype": "text/x-python",
   "name": "python",
   "nbconvert_exporter": "python",
   "pygments_lexer": "ipython3",
   "version": "3.7.9-final"
  },
  "toc": {
   "base_numbering": 1,
   "nav_menu": {},
   "number_sections": true,
   "sideBar": true,
   "skip_h1_title": false,
   "title_cell": "Table of Contents",
   "title_sidebar": "Contents",
   "toc_cell": true,
   "toc_position": {
    "height": "calc(100% - 180px)",
    "left": "10px",
    "top": "150px",
    "width": "258.797px"
   },
   "toc_section_display": true,
   "toc_window_display": true
  }
 },
 "nbformat": 4,
 "nbformat_minor": 4
}